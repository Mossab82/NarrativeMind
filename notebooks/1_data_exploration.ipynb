{
 "cells": [
  {
   "cell_type": "markdown",
   "metadata": {},
   "source": [
    "# NarrativeMind: Data Exploration\n",
    "\n",
    "This notebook explores the MADAR corpus and story dataset used in the paper."
   ]
  },
  {
   "cell_type": "code",
   "execution_count": null,
   "metadata": {},
   "source": [
    "import pandas as pd\n",
    "import matplotlib.pyplot as plt\n",
    "import seaborn as sns\n",
    "from narrative_mind.data import MADARProcessor\n",
    "from narrative_mind.utils import ArabicUtils, Visualizer"
   ]
  },
  {
   "cell_type": "markdown",
   "metadata": {},
   "source": [
    "## 1. Load and Process Data"
   ]
  },
  {
   "cell_type": "code",
   "execution_count": null,
   "metadata": {},
   "source": [
    "# Initialize processor\n",
    "processor = MADARProcessor()\n",
    "\n",
    "# Load MADAR corpus\n",
    "madar_df = processor.process_parallel_corpus('data/raw/madar/parallel-corpus.txt')\n",
    "print(f\"MADAR corpus size: {len(madar_df)}\")"
   ]
  },
  {
   "cell_type": "markdown",
   "metadata": {},
   "source": [
    "## 2. Analyze Dialect Distribution"
   ]
  },
  {
   "cell_type": "code",
   "execution_count": null,
   "metadata": {},
   "source": [
    "# Plot dialect distribution\n",
    "plt.figure(figsize=(12, 6))\n",
    "sns.countplot(data=madar_df, x='dialect')\n",
    "plt.xticks(rotation=45)\n",
    "plt.title('Distribution of Dialects in MADAR Corpus')\n",
    "plt.show()"
   ]
  },
  {
   "cell_type": "markdown",
   "metadata": {},
   "source": [
    "## 3. Analyze Text Characteristics"
   ]
  },
  {
   "cell_type": "code",
   "execution_count": null,
   "metadata": {},
   "source": [
    "# Calculate text lengths\n",
    "madar_df['length'] = madar_df['text'].apply(lambda x: len(x.split()))\n",
    "\n",
    "plt.figure(figsize=(10, 6))\n",
    "sns.boxplot(data=madar_df, x='dialect', y='length')\n",
    "plt.xticks(rotation=45)\n",
    "plt.title('Text Length Distribution by Dialect')\n",
    "plt.show()"
   ]
  }
 ]
}

# notebooks/2_model_training.ipynb

{
 "cells": [
  {
   "cell_type": "markdown",
   "metadata": {},
   "source": [
    "# NarrativeMind: Model Training\n",
    "\n",
    "This notebook demonstrates the training process for the NarrativeMind model."
   ]
  },
  {
   "cell_type": "code",
   "execution_count": null,
   "metadata": {},
   "source": [
    "import torch\n",
    "from narrative_mind.models import NarrativeMind\n",
    "from narrative_mind.data import DataLoader\n",
    "from narrative_mind.evaluation import NarrativeEvaluator\n",
    "import yaml"
   ]
  },
  {
   "cell_type": "markdown",
   "metadata": {},
   "source": [
    "## 1. Load Configuration"
   ]
  },
  {
   "cell_type": "code",
   "execution_count": null,
   "metadata": {},
   "source": [
    "# Load training config\n",
    "with open('configs/training_config.yaml') as f:\n",
    "    config = yaml.safe_load(f)\n",
    "\n",
    "device = 'cuda' if torch.cuda.is_available() else 'cpu'"
   ]
  },
  {
   "cell_type": "markdown",
   "metadata": {},
   "source": [
    "## 2. Initialize Model and Data"
   ]
  },
  {
   "cell_type": "code",
   "execution_count": null,
   "metadata": {},
   "source": [
    "# Initialize model\n",
    "model = NarrativeMind(device=device)\n",
    "\n",
    "# Initialize data loader\n",
    "data_loader = DataLoader(\n",
    "    data_dir='data',\n",
    "    tokenizer=model.tokenizer,\n",
    "    batch_size=config['training']['batch_size']\n",
    ")\n",
    "\n",
    "# Get data loaders\n",
    "train_loader = data_loader.load_madar(split='train')\n",
    "val_loader = data_loader.load_madar(split='val')"
   ]
  },
  {
   "cell_type": "markdown",
   "metadata": {},
   "source": [
    "## 3. Training Loop"
   ]
  },
  {
   "cell_type": "code",
   "execution_count": null,
   "metadata": {},
   "source": [
    "from torch.optim import AdamW\n",
    "from tqdm.notebook import tqdm\n",
    "\n",
    "# Initialize optimizer\n",
    "optimizer = AdamW(\n",
    "    model.parameters(),\n",
    "    lr=config['training']['learning_rate']\n",
    ")\n",
    "\n",
    "# Training loop\n",
    "for epoch in range(config['training']['max_epochs']):\n",
    "    print(f\"Epoch {epoch+1}
